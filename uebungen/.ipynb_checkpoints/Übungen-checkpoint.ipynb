{
 "cells": [
  {
   "cell_type": "markdown",
   "id": "3474c0fe",
   "metadata": {},
   "source": [
    "# str und int\n",
    "a = \"hallo\"\n",
    "b = 2\n",
    "c = 3\n",
    "\n",
    "\n",
    "1. gib a aus\n",
    "2. gib a 3x aus -> ``hallohallohallo``\n",
    "    - gib a 5x aus und benutze a nur 1x\n",
    "    - benutze nur Variablen \n",
    "3. addiere b und c und lege es in variable d ab\n",
    "4. multipliziere b und c miteinander und addiere b -> ``Ergebnis = 8``\n",
    "5. addiere b mit c und multipliziere es mit b -> ``Ergebnis = 10``\n",
    "6. dividiere c durch b und lege es in variable d ab\n",
    "    - welchen type hat d?\n",
    "    - gebe den type aus\n",
    "7. gib ``2hallo3`` aus\n",
    "    - achte auf type\n",
    "    - benutze nur variablen\n",
    "8. gib ``hallohallo3`` aus\n",
    "    - benutze nur variablen\n",
    "9. gib ``hallohallo 2 3 hallohallohallo`` aus\n",
    "    - benutze nur variablen\n",
    "10. rechne b hoch c und gib den Rest der Division durch 3 aus -> ``Ergebnis = 2``\n",
    "11. addiere b mit c und gibt den Rest der Division durch 2 aus -> ``Ergebnis = 1``\n"
   ]
  },
  {
   "cell_type": "markdown",
   "id": "b0013e7f",
   "metadata": {},
   "source": [
    "# Textaufgaben\n",
    "\n",
    "Ich bekomme 1000€ geschenkt. Kaufe mir für 250€ Bücher und Sonsteiges für 125€\n",
    "    - Gib den Rest aus.\n",
    "    - 2 Freunde und ich sollen jeweils den gleichen Anteil bekommen. Wie hoch ist er?\n",
    "    - führe die Berechnung ohne Zahlen durch (nur mit Varialen)\n",
    "    - führe die Berechnung in einer Zeile incl Ausgabe aus\n",
    "    - verändere die unrsprüngliche 1000 € auf 1250 ohne die Berechnung zu ändern und gib das Ergebnis aus\n",
    "    \n",
    "    "
   ]
  },
  {
   "cell_type": "code",
   "execution_count": null,
   "id": "d2bee0cd",
   "metadata": {},
   "outputs": [],
   "source": []
  },
  {
   "cell_type": "markdown",
   "id": "f7783042",
   "metadata": {},
   "source": [
    "Ich habe einen Kuchen und möchte ihn auf 8 Stücke aufteilen.\n",
    "    - 3 Personen, jede soll gleich viel bekommen. Wie viel bekommt jede Person?\n",
    "        - beachte das man ein Stück nicht mehr Teilen kann (keine Fließkommazahlen möglich)\n",
    "    - berechne den Rest\n",
    "    - ändere die 8 Stücke auf 6\n",
    "     \n",
    "      \n"
   ]
  },
  {
   "cell_type": "code",
   "execution_count": 2,
   "id": "28356fb6",
   "metadata": {},
   "outputs": [
    {
     "name": "stdout",
     "output_type": "stream",
     "text": [
      "<class 'int'>\n"
     ]
    }
   ],
   "source": [
    "a=2**3%3\n",
    "print(type(a))\n"
   ]
  },
  {
   "cell_type": "markdown",
   "id": "77c02763",
   "metadata": {},
   "source": [
    "# Exercises for Python 3"
   ]
  },
  {
   "cell_type": "markdown",
   "id": "0396a083",
   "metadata": {},
   "source": [
    "## 2. Input manipulation\n",
    "\n",
    "Erstelle Variablen und frage den User nach 2 Zahlen: (z.B. var1=5, var2=8)\n",
    "- gib die Zahlen aus \n",
    "    - ``Zahl 1: 5``\n",
    "    - ``Zahl 2: 8``    \n",
    "- klebe die Zahlen aneinander \n",
    "    - ``Zahl: 58``\n",
    "    - ``Zahl: 85``\n",
    "- addiere var1 + var2\n",
    "    - ``Ergebnis: 10``\n",
    "    "
   ]
  },
  {
   "cell_type": "code",
   "execution_count": null,
   "id": "828f3dd0",
   "metadata": {},
   "outputs": [],
   "source": []
  },
  {
   "cell_type": "markdown",
   "id": "abd72102",
   "metadata": {},
   "source": [
    "## 3. If-Else"
   ]
  },
  {
   "cell_type": "markdown",
   "id": "5d25a414",
   "metadata": {},
   "source": [
    "## 4. If-Else-Elif"
   ]
  }
 ],
 "metadata": {
  "kernelspec": {
   "display_name": "Python 3 (ipykernel)",
   "language": "python",
   "name": "python3"
  },
  "language_info": {
   "codemirror_mode": {
    "name": "ipython",
    "version": 3
   },
   "file_extension": ".py",
   "mimetype": "text/x-python",
   "name": "python",
   "nbconvert_exporter": "python",
   "pygments_lexer": "ipython3",
   "version": "3.8.10"
  }
 },
 "nbformat": 4,
 "nbformat_minor": 5
}
