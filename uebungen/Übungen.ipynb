{
 "cells": [
  {
   "cell_type": "markdown",
   "id": "77c02763",
   "metadata": {},
   "source": [
    "# Exercises for Python 3"
   ]
  },
  {
   "cell_type": "markdown",
   "id": "0396a083",
   "metadata": {},
   "source": [
    "## 2. Input manipulation\n",
    "\n",
    "Erstelle Variablen und frage den User nach 2 Zahlen: (z.B. var1=5, var2=8)\n",
    "- gib die Zahlen aus \n",
    "    - ``Zahl 1: 5``\n",
    "    - ``Zahl 2: 8``    \n",
    "- klebe die Zahlen aneinander \n",
    "    - ``Zahl: 58``\n",
    "    - ``Zahl: 85``\n",
    "- addiere var1 + var2\n",
    "    - ``Ergebnis: 10``\n",
    "    "
   ]
  },
  {
   "cell_type": "code",
   "execution_count": null,
   "id": "828f3dd0",
   "metadata": {},
   "outputs": [],
   "source": []
  },
  {
   "cell_type": "markdown",
   "id": "abd72102",
   "metadata": {},
   "source": [
    "## 3. If-Else"
   ]
  },
  {
   "cell_type": "markdown",
   "id": "5d25a414",
   "metadata": {},
   "source": [
    "## 4. If-Else-Elif"
   ]
  }
 ],
 "metadata": {
  "kernelspec": {
   "display_name": "Python 3 (ipykernel)",
   "language": "python",
   "name": "python3"
  },
  "language_info": {
   "codemirror_mode": {
    "name": "ipython",
    "version": 3
   },
   "file_extension": ".py",
   "mimetype": "text/x-python",
   "name": "python",
   "nbconvert_exporter": "python",
   "pygments_lexer": "ipython3",
   "version": "3.8.10"
  }
 },
 "nbformat": 4,
 "nbformat_minor": 5
}
